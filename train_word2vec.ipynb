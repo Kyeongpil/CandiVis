{
 "cells": [
  {
   "cell_type": "code",
   "execution_count": 6,
   "metadata": {
    "ExecuteTime": {
     "end_time": "2017-06-16T10:34:18.133800Z",
     "start_time": "2017-06-16T10:34:18.127931Z"
    }
   },
   "outputs": [],
   "source": [
    "from konlpy.tag import Okt\n",
    "from glob import glob\n",
    "import ujson as json\n",
    "\n",
    "twitter = Okt()"
   ]
  },
  {
   "cell_type": "code",
   "execution_count": 9,
   "metadata": {
    "ExecuteTime": {
     "end_time": "2017-06-16T10:34:55.740099Z",
     "start_time": "2017-06-16T10:34:55.730399Z"
    }
   },
   "outputs": [
    {
     "name": "stdout",
     "output_type": "stream",
     "text": [
      "대선: 총 208076개의 기사 (전체의 135.0336%)\n",
      "문재인: 총 208076개의 기사 (전체의 135.0336%)\n",
      "안철수: 총 208076개의 기사 (전체의 135.0336%)\n",
      "홍준표: 총 208076개의 기사 (전체의 135.0336%)\n",
      "유승민: 총 208076개의 기사 (전체의 135.0336%)\n",
      "심상정: 총 208076개의 기사 (전체의 135.0336%)\n"
     ]
    }
   ],
   "source": [
    "keywords = [\"대선\", \"문재인\", \"안철수\", \"홍준표\", \"유승민\", \"심상정\"]\n",
    "a = 154092\n",
    "for keyword in keywords:\n",
    "    files = glob(\"crawlwed_articles/{}/*.json\".format(keyword))\n",
    "    totalNum = 0\n",
    "    for file in files:\n",
    "        with open(file) as f:\n",
    "            totalNum += len(json.load(f))\n",
    "    print(\"{}: 총 {}개의 기사 (전체의 {:.4f}%)\".format(keyword, totalNum, totalNum/a*100))"
   ]
  },
  {
   "cell_type": "code",
   "execution_count": 11,
   "metadata": {},
   "outputs": [],
   "source": [
    "with open(files[0]) as f:\n",
    "    data = json.load(f)"
   ]
  },
  {
   "cell_type": "code",
   "execution_count": 34,
   "metadata": {},
   "outputs": [
    {
     "name": "stdout",
     "output_type": "stream",
     "text": [
      "10000\n",
      "20000\n",
      "30000\n",
      "40000\n",
      "50000\n",
      "60000\n",
      "70000\n",
      "80000\n",
      "90000\n",
      "100000\n",
      "110000\n",
      "120000\n",
      "130000\n",
      "140000\n",
      "150000\n",
      "160000\n",
      "170000\n",
      "180000\n",
      "190000\n",
      "200000\n",
      "210000\n",
      "220000\n",
      "230000\n"
     ]
    }
   ],
   "source": [
    "articleList = []\n",
    "titles = set()\n",
    "articleNum = 0\n",
    "\n",
    "for keyword in keywords:\n",
    "    files = glob(\"cralwed_articles/{}/*.json\".format(keyword))\n",
    "    for file in files:\n",
    "        with open(file) as f:\n",
    "            articles = json.load(f)\n",
    "        for article in articles:\n",
    "            if article['title'] not in titles:\n",
    "                # 기사 중복되지 않는 것들만 처리\n",
    "                titles.add(article['title'])\n",
    "                articleList.append(article)\n",
    "                articleNum += 1\n",
    "                \n",
    "                if articleNum % 10000 == 0:\n",
    "                    print(articleNum)"
   ]
  },
  {
   "cell_type": "code",
   "execution_count": 21,
   "metadata": {
    "collapsed": true
   },
   "outputs": [],
   "source": [
    "from collections import defaultdict\n",
    "related_articles = defaultdict(list)\n",
    "\n",
    "for article in articleList:\n",
    "    for keyword in keywords[1:]:\n",
    "        if keyword in article['title']:\n",
    "            related_articles[keyword].append(article['title'])\n",
    "\n",
    "with open(\"related_articles.pkl\", \"wb\") as f:\n",
    "    pickle.dump(related_articles, f)"
   ]
  },
  {
   "cell_type": "code",
   "execution_count": 36,
   "metadata": {
    "collapsed": true
   },
   "outputs": [],
   "source": [
    "import pickle\n",
    "\n",
    "with open(\"articles.pkl\", \"wb\") as f:\n",
    "    pickle.dump(articleList, f)"
   ]
  },
  {
   "cell_type": "code",
   "execution_count": 2,
   "metadata": {
    "collapsed": true
   },
   "outputs": [],
   "source": [
    "import pickle\n",
    "\n",
    "with open(\"articles.pkl\", \"rb\") as f:\n",
    "    articleList = pickle.load(f)"
   ]
  },
  {
   "cell_type": "code",
   "execution_count": 3,
   "metadata": {},
   "outputs": [
    {
     "name": "stdout",
     "output_type": "stream",
     "text": [
      "0\n",
      "10000\n",
      "20000\n",
      "30000\n",
      "40000\n",
      "50000\n",
      "60000\n",
      "70000\n",
      "80000\n",
      "90000\n",
      "100000\n",
      "110000\n",
      "120000\n",
      "130000\n",
      "140000\n",
      "150000\n",
      "160000\n",
      "170000\n",
      "180000\n",
      "190000\n",
      "200000\n",
      "210000\n",
      "220000\n",
      "230000\n"
     ]
    }
   ],
   "source": [
    "spamTag = set(['URL', 'Email', 'KoreanParticle', 'Foreign', 'Number', 'Punctuation'])\n",
    "wordsList = []\n",
    "for i, article in enumerate(articleList):\n",
    "    if i % 10000 == 0:\n",
    "        print(i)\n",
    "\n",
    "    words = []\n",
    "    p = twitter.pos(article['text'], stem=True, norm=True)\n",
    "    for pos in p:\n",
    "        if pos[1] not in spamTag:\n",
    "            words.append(pos[0])\n",
    "    wordsList.append(words)"
   ]
  },
  {
   "cell_type": "code",
   "execution_count": 4,
   "metadata": {
    "collapsed": true
   },
   "outputs": [],
   "source": [
    "from gensim.models.word2vec import Word2Vec\n",
    "\n",
    "model = Word2Vec(wordsList, size=200, min_count=5, workers=5, sg=1)"
   ]
  },
  {
   "cell_type": "code",
   "execution_count": 5,
   "metadata": {
    "collapsed": true
   },
   "outputs": [],
   "source": [
    "model.wv.save_word2vec_format('word2vec.txt')"
   ]
  },
  {
   "cell_type": "code",
   "execution_count": 7,
   "metadata": {
    "collapsed": true
   },
   "outputs": [],
   "source": [
    "a = model['문재인']\n",
    "b = model['대통령']"
   ]
  },
  {
   "cell_type": "code",
   "execution_count": 16,
   "metadata": {},
   "outputs": [
    {
     "name": "stdout",
     "output_type": "stream",
     "text": [
      "Similarity between 문재인 and 진보: 0.34033064805568114\n",
      "Similarity between 홍준표 and 진보: 0.24932029585687634\n",
      "Similarity between 안철수 and 진보: 0.2935491661969409\n",
      "Similarity between 유승민 and 진보: 0.3013114592999173\n",
      "Similarity between 심상정 and 진보: 0.36947003451293675\n",
      "\n",
      "Similarity between 문재인 and 보수: 0.33152449313652027\n",
      "Similarity between 홍준표 and 보수: 0.4095070890920629\n",
      "Similarity between 안철수 and 보수: 0.32456712444940394\n",
      "Similarity between 유승민 and 보수: 0.3791166938994421\n",
      "Similarity between 심상정 and 보수: 0.25648218122290956\n",
      "\n"
     ]
    }
   ],
   "source": [
    "candidates = ['문재인', '홍준표', '안철수', '유승민', '심상정']\n",
    "tendencies = ['진보', '보수']\n",
    "for tendency in tendencies:\n",
    "    for candidate in candidates:\n",
    "        print(\"Similarity between {} and {}: {}\".format(candidate, tendency, model.wv.similarity(candidate, tendency)))\n",
    "    print()"
   ]
  },
  {
   "cell_type": "code",
   "execution_count": null,
   "metadata": {
    "collapsed": true
   },
   "outputs": [],
   "source": []
  }
 ],
 "metadata": {
  "_draft": {
   "nbviewer_url": "https://gist.github.com/376736b75ea18ab8cffe51c465b60cd0"
  },
  "anaconda-cloud": {},
  "gist": {
   "data": {
    "description": "github/Korean-presidential-election-visualization/train_word2vec.ipynb",
    "public": true
   },
   "id": "376736b75ea18ab8cffe51c465b60cd0"
  },
  "kernelspec": {
   "display_name": "Python 3",
   "language": "python",
   "name": "python3"
  },
  "language_info": {
   "codemirror_mode": {
    "name": "ipython",
    "version": 3
   },
   "file_extension": ".py",
   "mimetype": "text/x-python",
   "name": "python",
   "nbconvert_exporter": "python",
   "pygments_lexer": "ipython3",
   "version": "3.7.3"
  },
  "latex_envs": {
   "LaTeX_envs_menu_present": true,
   "autocomplete": true,
   "bibliofile": "biblio.bib",
   "cite_by": "number",
   "current_citInitial": 1,
   "eqLabelWithNumbers": true,
   "eqNumInitial": 1,
   "hotkeys": {
    "equation": "Ctrl-E",
    "itemize": "Ctrl-I"
   },
   "labels_anchors": false,
   "latex_user_defs": false,
   "report_style_numbering": false,
   "user_envs_cfg": false
  },
  "varInspector": {
   "cols": {
    "lenName": 16,
    "lenType": 16,
    "lenVar": 40
   },
   "kernels_config": {
    "python": {
     "delete_cmd_postfix": "",
     "delete_cmd_prefix": "del ",
     "library": "var_list.py",
     "varRefreshCmd": "print(var_dic_list())"
    },
    "r": {
     "delete_cmd_postfix": ") ",
     "delete_cmd_prefix": "rm(",
     "library": "var_list.r",
     "varRefreshCmd": "cat(var_dic_list()) "
    }
   },
   "position": {
    "height": "491px",
    "left": "910px",
    "right": "20px",
    "top": "120px",
    "width": "350px"
   },
   "types_to_exclude": [
    "module",
    "function",
    "builtin_function_or_method",
    "instance",
    "_Feature"
   ],
   "window_display": false
  }
 },
 "nbformat": 4,
 "nbformat_minor": 1
}
