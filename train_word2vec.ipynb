{
 "cells": [
  {
   "cell_type": "code",
   "execution_count": 1,
   "metadata": {
    "collapsed": true
   },
   "outputs": [],
   "source": [
    "from konlpy.tag import Twitter\n",
    "from glob import glob\n",
    "import ujson as json\n",
    "\n",
    "twitter = Twitter()"
   ]
  },
  {
   "cell_type": "code",
   "execution_count": 20,
   "metadata": {
    "collapsed": false
   },
   "outputs": [
    {
     "name": "stdout",
     "output_type": "stream",
     "text": [
      "대선: 총 0개의 기사 (전체의 0.0000%)\n",
      "문재인: 총 0개의 기사 (전체의 0.0000%)\n",
      "안철수: 총 0개의 기사 (전체의 0.0000%)\n",
      "홍준표: 총 0개의 기사 (전체의 0.0000%)\n",
      "유승민: 총 0개의 기사 (전체의 0.0000%)\n",
      "심상정: 총 0개의 기사 (전체의 0.0000%)\n"
     ]
    }
   ],
   "source": [
    "keywords = [\"대선\", \"문재인\", \"안철수\", \"홍준표\", \"유승민\", \"심상정\"]\n",
    "a = 154092\n",
    "for keyword in keywords:\n",
    "    files = glob(\"crawlwed_articles/{}/*.json\".format(keyword))\n",
    "    totalNum = 0\n",
    "    for file in files:\n",
    "        with open(file) as f:\n",
    "            totalNum += len(json.load(f))\n",
    "    print(\"{}: 총 {}개의 기사 (전체의 {:.4f}%)\".format(keyword, totalNum, totalNum/a*100))"
   ]
  },
  {
   "cell_type": "code",
   "execution_count": 16,
   "metadata": {
    "collapsed": false
   },
   "outputs": [
    {
     "name": "stdout",
     "output_type": "stream",
     "text": [
      "59\n"
     ]
    }
   ],
   "source": [
    "print(len(files))"
   ]
  },
  {
   "cell_type": "code",
   "execution_count": 31,
   "metadata": {
    "collapsed": false
   },
   "outputs": [],
   "source": [
    "with open(files[0]) as f:\n",
    "    data = json.load(f)"
   ]
  },
  {
   "cell_type": "code",
   "execution_count": 32,
   "metadata": {
    "collapsed": false
   },
   "outputs": [
    {
     "data": {
      "text/plain": [
       "{'date': '2017-05-06',\n",
       " 'text': \"앵커\\n바른정당 유승민 후보는 대통령이 되면, 한·일 정부 간 위안부 합의를 파기하고 재협상에 나서겠다고 밝혔습니다.정의당 심상정 후보는 자신이 홍준표 후보를 꺾는 게 촛불 민심에 부합하는 일이라며 날을 세웠습니다.안윤학 기자입니다.\\n기자\\n바른정당 유승민 후보는 집단 탈당 사태 이후 수도권에서부터 지지율이 오르고 있다고 보고 사흘째 수도권 민심 잡기에 집중했습니다.수원 월드컵경기장과 잠실야구장 등 인파가 몰리는 지역을 돌며 보수의 개혁에 힘을 실어달라고 호소했습니다.위안부 피해자 할머니들을 위한 어버이날 행사에도 참석해, 일본 정부와의 위안부 합의를 파기하고 재협상에 나서겠다고 약속했습니다. 정의당 심상정 후보도 수도권 유세에 총력을 기울였습니다.촛불 혁명의 완성은 누가 당선되느냐보다는 적폐 세력으로 지목한 홍준표 후보를 자신이 꺾느냐 못 꺾느냐에 달려 있다며 집중 공세를 퍼부었습니다. 심 후보는 또 민주당이 홍준표 후보를 염두에 두고 정권교체가 위태롭다며 '공포 마케팅'을 하는 것은 촛불 민심을 모욕하는 것이라며 즉각 중단을 촉구했습니다.YTN 안윤학 입니다.\",\n",
       " 'title': '유승민 \"위안부 합의 재협상\"...심상정 \"적폐 홍준표 청산해야\"'}"
      ]
     },
     "execution_count": 32,
     "metadata": {},
     "output_type": "execute_result"
    }
   ],
   "source": [
    "data[0]"
   ]
  },
  {
   "cell_type": "code",
   "execution_count": 34,
   "metadata": {
    "collapsed": false
   },
   "outputs": [
    {
     "name": "stdout",
     "output_type": "stream",
     "text": [
      "10000\n",
      "20000\n",
      "30000\n",
      "40000\n",
      "50000\n",
      "60000\n",
      "70000\n",
      "80000\n",
      "90000\n",
      "100000\n",
      "110000\n",
      "120000\n",
      "130000\n",
      "140000\n",
      "150000\n",
      "160000\n",
      "170000\n",
      "180000\n",
      "190000\n",
      "200000\n",
      "210000\n",
      "220000\n",
      "230000\n"
     ]
    }
   ],
   "source": [
    "articleList = []\n",
    "titles = set()\n",
    "articleNum = 0\n",
    "\n",
    "for keyword in keywords:\n",
    "    files = glob(\"cralwed_articles/{}/*.json\".format(keyword))\n",
    "    for file in files:\n",
    "        with open(file) as f:\n",
    "            articles = json.load(f)\n",
    "        for article in articles:\n",
    "            if article['title'] not in titles:\n",
    "                # 기사 중복되지 않는 것들만 처리\n",
    "                titles.add(article['title'])\n",
    "                articleList.append(article)\n",
    "                articleNum += 1\n",
    "                \n",
    "                if articleNum % 10000 == 0:\n",
    "                    print(articleNum)"
   ]
  },
  {
   "cell_type": "code",
   "execution_count": 21,
   "metadata": {
    "collapsed": false
   },
   "outputs": [],
   "source": [
    "from collections import defaultdict\n",
    "related_articles = defaultdict(list)\n",
    "\n",
    "for article in articleList:\n",
    "    for keyword in keywords[1:]:\n",
    "        if keyword in article['title']:\n",
    "            related_articles[keyword].append(article['title'])\n",
    "\n",
    "with open(\"related_articles.pkl\", \"wb\") as f:\n",
    "    pickle.dump(related_articles, f)"
   ]
  },
  {
   "cell_type": "code",
   "execution_count": 36,
   "metadata": {
    "collapsed": false
   },
   "outputs": [],
   "source": [
    "import pickle\n",
    "\n",
    "with open(\"articles.pkl\", \"wb\") as f:\n",
    "    pickle.dump(articleList, f)"
   ]
  },
  {
   "cell_type": "code",
   "execution_count": 2,
   "metadata": {
    "collapsed": true
   },
   "outputs": [],
   "source": [
    "import pickle\n",
    "\n",
    "with open(\"articles.pkl\", \"rb\") as f:\n",
    "    articleList = pickle.load(f)"
   ]
  },
  {
   "cell_type": "code",
   "execution_count": 3,
   "metadata": {
    "collapsed": false
   },
   "outputs": [
    {
     "name": "stdout",
     "output_type": "stream",
     "text": [
      "0\n",
      "10000\n",
      "20000\n",
      "30000\n",
      "40000\n",
      "50000\n",
      "60000\n",
      "70000\n",
      "80000\n",
      "90000\n",
      "100000\n",
      "110000\n",
      "120000\n",
      "130000\n",
      "140000\n",
      "150000\n",
      "160000\n",
      "170000\n",
      "180000\n",
      "190000\n",
      "200000\n",
      "210000\n",
      "220000\n",
      "230000\n"
     ]
    }
   ],
   "source": [
    "spamTag = set(['URL', 'Email', 'KoreanParticle', 'Foreign', 'Number', 'Punctuation'])\n",
    "wordsList = []\n",
    "for i, article in enumerate(articleList):\n",
    "    if i % 10000 == 0:\n",
    "        print(i)\n",
    "\n",
    "    words = []\n",
    "    p = twitter.pos(article['text'], stem=True, norm=True)\n",
    "    for pos in p:\n",
    "        if pos[1] not in spamTag:\n",
    "            words.append(pos[0])\n",
    "    wordsList.append(words)"
   ]
  },
  {
   "cell_type": "code",
   "execution_count": 4,
   "metadata": {
    "collapsed": false
   },
   "outputs": [],
   "source": [
    "from gensim.models.word2vec import Word2Vec\n",
    "\n",
    "model = Word2Vec(wordsList, size=200, min_count=5, workers=5, sg=1)"
   ]
  },
  {
   "cell_type": "code",
   "execution_count": 5,
   "metadata": {
    "collapsed": true
   },
   "outputs": [],
   "source": [
    "model.wv.save_word2vec_format('word2vec.txt')"
   ]
  },
  {
   "cell_type": "code",
   "execution_count": 7,
   "metadata": {
    "collapsed": false
   },
   "outputs": [],
   "source": [
    "a = model['문재인']\n",
    "b = model['대통령']"
   ]
  },
  {
   "cell_type": "code",
   "execution_count": 16,
   "metadata": {
    "collapsed": false
   },
   "outputs": [
    {
     "name": "stdout",
     "output_type": "stream",
     "text": [
      "Similarity between 문재인 and 진보: 0.34033064805568114\n",
      "Similarity between 홍준표 and 진보: 0.24932029585687634\n",
      "Similarity between 안철수 and 진보: 0.2935491661969409\n",
      "Similarity between 유승민 and 진보: 0.3013114592999173\n",
      "Similarity between 심상정 and 진보: 0.36947003451293675\n",
      "\n",
      "Similarity between 문재인 and 보수: 0.33152449313652027\n",
      "Similarity between 홍준표 and 보수: 0.4095070890920629\n",
      "Similarity between 안철수 and 보수: 0.32456712444940394\n",
      "Similarity between 유승민 and 보수: 0.3791166938994421\n",
      "Similarity between 심상정 and 보수: 0.25648218122290956\n",
      "\n"
     ]
    }
   ],
   "source": [
    "candidates = ['문재인', '홍준표', '안철수', '유승민', '심상정']\n",
    "tendencies = ['진보', '보수']\n",
    "for tendency in tendencies:\n",
    "    for candidate in candidates:\n",
    "        print(\"Similarity between {} and {}: {}\".format(candidate, tendency, model.wv.similarity(candidate, tendency)))\n",
    "    print()"
   ]
  },
  {
   "cell_type": "code",
   "execution_count": null,
   "metadata": {
    "collapsed": true
   },
   "outputs": [],
   "source": []
  }
 ],
 "metadata": {
  "anaconda-cloud": {},
  "kernelspec": {
   "display_name": "Python [conda root]",
   "language": "python",
   "name": "conda-root-py"
  },
  "language_info": {
   "codemirror_mode": {
    "name": "ipython",
    "version": 3
   },
   "file_extension": ".py",
   "mimetype": "text/x-python",
   "name": "python",
   "nbconvert_exporter": "python",
   "pygments_lexer": "ipython3",
   "version": "3.5.2"
  }
 },
 "nbformat": 4,
 "nbformat_minor": 1
}
